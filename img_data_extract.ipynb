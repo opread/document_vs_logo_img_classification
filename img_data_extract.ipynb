{
 "cells": [
  {
   "cell_type": "code",
   "execution_count": 24,
   "metadata": {},
   "outputs": [
    {
     "name": "stdout",
     "output_type": "stream",
     "text": [
      "/home/dragos/projects/document_vs_logo_img_classification\n",
      "downloads\n",
      "downloads/invoice_m\n",
      "downloads/company_logo_m\n",
      "downloads/credit_note_m\n",
      "DONE!\n"
     ]
    }
   ],
   "source": [
    "import os\n",
    "from PIL import Image \n",
    "\n",
    "print(os.getcwd())\n",
    "\n",
    "folder_images = \"downloads\"\n",
    "size_images = dict()\n",
    "\n",
    "for dirpath, _, filenames in os.walk(folder_images):\n",
    "    print(dirpath)\n",
    "    for path_image in filenames:\n",
    "        image = os.path.abspath(os.path.join(dirpath, path_image))\n",
    "        with Image.open(image) as img:\n",
    "            width, heigth = img.size\n",
    "            statinfo = os.stat(image)\n",
    "            size_images[path_image] = {'dirpath':dirpath, 'width': width,\n",
    "                                       'heigth': heigth, 'size': statinfo.st_size}\n",
    "                    \n",
    "f= open('list.txt','w')\n",
    "for index,filename in enumerate(size_images):\n",
    "    f.write(\"%s,%s,%s,%s,%s\\n\"%(size_images[filename]['dirpath'],filename,\n",
    "                             size_images[filename]['width'],\n",
    "                             size_images[filename]['heigth'],\n",
    "                             size_images[filename]['size']\n",
    "                            ))\n",
    "    f.close\n",
    "print(\"DONE!\")"
   ]
  },
  {
   "cell_type": "code",
   "execution_count": 51,
   "metadata": {},
   "outputs": [
    {
     "name": "stdout",
     "output_type": "stream",
     "text": [
      "{'width': 520, 'heigth': 402}\n"
     ]
    }
   ],
   "source": [
    "print(size_images['24.808195cb-b1d2-4492-a748-29671ccecdd2.png'])"
   ]
  },
  {
   "cell_type": "code",
   "execution_count": 14,
   "metadata": {},
   "outputs": [
    {
     "data": {
      "text/plain": [
       "542"
      ]
     },
     "execution_count": 14,
     "metadata": {},
     "output_type": "execute_result"
    }
   ],
   "source": [
    "len(size_images)"
   ]
  },
  {
   "cell_type": "code",
   "execution_count": 80,
   "metadata": {},
   "outputs": [
    {
     "data": {
      "text/plain": [
       "'/home/dragos/projects/document_vs_logo_img_classification'"
      ]
     },
     "execution_count": 80,
     "metadata": {},
     "output_type": "execute_result"
    }
   ],
   "source": [
    "os.getcwd()"
   ]
  },
  {
   "cell_type": "code",
   "execution_count": 79,
   "metadata": {},
   "outputs": [],
   "source": [
    "os.chdir(\"..\")"
   ]
  },
  {
   "cell_type": "code",
   "execution_count": null,
   "metadata": {},
   "outputs": [],
   "source": []
  }
 ],
 "metadata": {
  "kernelspec": {
   "display_name": "Python 3",
   "language": "python",
   "name": "python3"
  },
  "language_info": {
   "codemirror_mode": {
    "name": "ipython",
    "version": 3
   },
   "file_extension": ".py",
   "mimetype": "text/x-python",
   "name": "python",
   "nbconvert_exporter": "python",
   "pygments_lexer": "ipython3",
   "version": "3.7.1"
  }
 },
 "nbformat": 4,
 "nbformat_minor": 2
}
